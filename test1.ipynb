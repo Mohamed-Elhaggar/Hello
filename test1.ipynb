{
 "cells": [
  {
   "cell_type": "markdown",
   "metadata": {
    "id": "7rMJIubZGObP"
   },
   "source": [
    "#### Multiply 10 with 5, and print the result.\n",
    "\n"
   ]
  },
  {
   "cell_type": "code",
   "execution_count": 2,
   "metadata": {},
   "outputs": [
    {
     "name": "stdout",
     "output_type": "stream",
     "text": [
      "the result is 50\n"
     ]
    }
   ],
   "source": [
    "x=10\n",
    "y=5\n",
    "result=x*y\n",
    "print(f'the result is {result}')"
   ]
  },
  {
   "cell_type": "markdown",
   "metadata": {
    "id": "Mucrs9f5GYw3"
   },
   "source": [
    "### Divide 10 by 2, and print the result.\n",
    "\n"
   ]
  },
  {
   "cell_type": "code",
   "execution_count": 3,
   "metadata": {},
   "outputs": [
    {
     "name": "stdout",
     "output_type": "stream",
     "text": [
      "the result is 5.0\n"
     ]
    }
   ],
   "source": [
    "x=10\n",
    "y=2\n",
    "result=x/y\n",
    "print(f'the result is {result}')"
   ]
  },
  {
   "cell_type": "markdown",
   "metadata": {
    "id": "GhvrFFPxGkLF"
   },
   "source": [
    "### Use the correct membership operator to check if \"apple\" is present in the fruits object.\n",
    "\n"
   ]
  },
  {
   "cell_type": "code",
   "execution_count": 20,
   "metadata": {},
   "outputs": [],
   "source": [
    "fruits = ['apple', 'cherry', 'bannana', 'watermelon']"
   ]
  },
  {
   "cell_type": "code",
   "execution_count": null,
   "metadata": {},
   "outputs": [],
   "source": [
    "if apple in fruits:\n",
    "    print('\"apple\" is present in the fruits ')\n",
    "else:\n",
    "    print('\"apple\" is not present in the fruits')"
   ]
  },
  {
   "cell_type": "markdown",
   "metadata": {
    "id": "71TfNEQxGuNw"
   },
   "source": [
    "### Use the correct comparison operator to check if 5 is `not equal` to 10.\n",
    "\n"
   ]
  },
  {
   "cell_type": "code",
   "execution_count": null,
   "metadata": {},
   "outputs": [],
   "source": [
    "'yes' if 5!= 10 else 'no' "
   ]
  },
  {
   "cell_type": "markdown",
   "metadata": {
    "id": "_cqga3VjG9jJ"
   },
   "source": [
    "### Use the correct logical operator to check if at least one of two statements is `True`.\n",
    "\n"
   ]
  },
  {
   "cell_type": "code",
   "execution_count": null,
   "metadata": {},
   "outputs": [],
   "source": [
    "x= True \n",
    "y= False\n",
    "'at laset one of the statment is true 'if x or y else 'not True'"
   ]
  },
  {
   "cell_type": "markdown",
   "metadata": {
    "id": "gvFm9RC4H2BJ"
   },
   "source": [
    "### Print the second item in the fruits list.\n",
    "\n"
   ]
  },
  {
   "cell_type": "code",
   "execution_count": 4,
   "metadata": {},
   "outputs": [
    {
     "name": "stdout",
     "output_type": "stream",
     "text": [
      "cherry\n"
     ]
    }
   ],
   "source": [
    "fruits = ['apple', 'cherry', 'bannana', 'watermelon']\n",
    "print(fruits[1])"
   ]
  },
  {
   "cell_type": "markdown",
   "metadata": {
    "id": "_o7i99HGICNC"
   },
   "source": [
    "### Change the value from \"apple\" to \"kiwi\", in the fruits list.\n",
    "\n"
   ]
  },
  {
   "cell_type": "code",
   "execution_count": null,
   "metadata": {},
   "outputs": [],
   "source": [
    "index= fruits.index('apple')\n",
    "fruits[index]='kiwi'"
   ]
  },
  {
   "cell_type": "markdown",
   "metadata": {
    "id": "Wxi383HNILra"
   },
   "source": [
    "### Use the append method to add \"orange\" to the fruits list.\n",
    "\n"
   ]
  },
  {
   "cell_type": "code",
   "execution_count": null,
   "metadata": {},
   "outputs": [],
   "source": [
    "fruits.append('orange')"
   ]
  },
  {
   "cell_type": "markdown",
   "metadata": {
    "id": "z6tv8q6zIUjZ"
   },
   "source": [
    "### Use the insert method to add \"lemon\" as the second item in the fruits list.\n",
    "\n"
   ]
  },
  {
   "cell_type": "code",
   "execution_count": null,
   "metadata": {},
   "outputs": [],
   "source": [
    "fruits.insert(1,'lemon')"
   ]
  },
  {
   "cell_type": "markdown",
   "metadata": {
    "id": "CsyceyyBIiSw"
   },
   "source": [
    "### Use the remove method to remove `\"banana\"` from the fruits list.\n",
    "\n"
   ]
  },
  {
   "cell_type": "code",
   "execution_count": null,
   "metadata": {},
   "outputs": [],
   "source": [
    "fruits.remove('bannana')"
   ]
  },
  {
   "cell_type": "markdown",
   "metadata": {
    "id": "0fbTHlYrIrwY"
   },
   "source": [
    "### Use negative indexing to print the last item in the list.\n",
    "\n"
   ]
  },
  {
   "cell_type": "code",
   "execution_count": null,
   "metadata": {},
   "outputs": [],
   "source": [
    "print(fruits[-1])"
   ]
  },
  {
   "cell_type": "markdown",
   "metadata": {
    "id": "rR3ORmMVI55Z"
   },
   "source": [
    "### Use a range of indexes to print the third, fourth, and fifth item in the list.\n",
    "\n"
   ]
  },
  {
   "cell_type": "code",
   "execution_count": null,
   "metadata": {},
   "outputs": [],
   "source": [
    "print(fruits[2:5])"
   ]
  },
  {
   "cell_type": "markdown",
   "metadata": {
    "id": "tc0ZAGQ2JfM9"
   },
   "source": [
    "### Use the correct syntax to print the number of items in the list.\n",
    "\n"
   ]
  },
  {
   "cell_type": "code",
   "execution_count": null,
   "metadata": {},
   "outputs": [],
   "source": [
    "print(len(fruits))"
   ]
  },
  {
   "cell_type": "markdown",
   "metadata": {
    "id": "feYJq0vYKe1S"
   },
   "source": [
    "### Write a Python program to print all even numbers from a given list of numbers in the same order and stop printing any after 237 in the sequence."
   ]
  },
  {
   "cell_type": "markdown",
   "metadata": {
    "id": "ec1qLM7DKnea"
   },
   "source": [
    "#### numbers = [    \n",
    "    386, 462, 47, 418, 907, 344, 236, 375, 823, 566, 597, 978, 328, 615, 953, 345,\n",
    "    399, 162, 758, 219, 918, 237, 412, 566, 826, 248, 866, 950, 626, 949, 687, 217,\n",
    "    815, 67, 104, 58, 512, 24, 892, 894, 767, 553, 81, 379, 843, 831, 445, 742, 717,\n",
    "    958,743, 527\n",
    "    ]"
   ]
  },
  {
   "cell_type": "code",
   "execution_count": 6,
   "metadata": {},
   "outputs": [],
   "source": [
    "numbers = [\n",
    "386, 462, 47, 418, 907, 344, 236, 375, 823, 566, 597, 978, 328, 615, 953, 345,\n",
    "399, 162, 758, 219, 918, 237, 412, 566, 826, 248, 866, 950, 626, 949, 687, 217,\n",
    "815, 67, 104, 58, 512, 24, 892, 894, 767, 553, 81, 379, 843, 831, 445, 742, 717,\n",
    "958,743, 527\n",
    "]"
   ]
  },
  {
   "cell_type": "code",
   "execution_count": 12,
   "metadata": {},
   "outputs": [
    {
     "name": "stdout",
     "output_type": "stream",
     "text": [
      "24\n",
      "58\n",
      "104\n",
      "162\n",
      "236\n",
      "237\n"
     ]
    }
   ],
   "source": [
    "numbers.sort()\n",
    "for i in numbers :\n",
    "    if i ==237:\n",
    "        print(i)\n",
    "        break\n",
    "    if i %2 ==0:\n",
    "        print(i)\n",
    "        "
   ]
  },
  {
   "cell_type": "markdown",
   "metadata": {
    "id": "FX6mi5tqLb5J"
   },
   "source": [
    "### Write a Python program that will accept the base and height of a triangle and compute its area.\n",
    "\n"
   ]
  },
  {
   "cell_type": "markdown",
   "metadata": {
    "id": "mt1FKNPYLN0I"
   },
   "source": [
    "<img src=\"https://www.w3resource.com/w3r_images/python-area-triangle-basic-exercise-30.png\" alt=\"Girl in a jacket\" width=\"500\" height=\"600\">\n"
   ]
  },
  {
   "cell_type": "code",
   "execution_count": 9,
   "metadata": {},
   "outputs": [
    {
     "name": "stdin",
     "output_type": "stream",
     "text": [
      "enter the base of the triangle :/n 2\n",
      "enter the hight of the triangle :/n 2.3\n"
     ]
    },
    {
     "name": "stdout",
     "output_type": "stream",
     "text": [
      "Area a =.5 *2.0 *2.3\n"
     ]
    }
   ],
   "source": [
    "base=float(input('enter the base of the triangle :/n'))\n",
    "hight=float(input('enter the hight of the triangle :/n'))\n",
    "print (f'Area a =.5 *{base} *{hight}')"
   ]
  },
  {
   "cell_type": "code",
   "execution_count": null,
   "metadata": {},
   "outputs": [],
   "source": []
  },
  {
   "cell_type": "markdown",
   "metadata": {
    "id": "tP7gY2ZCPxnU"
   },
   "source": [
    "### Sort three integers without using conditional statements\n",
    "\n"
   ]
  },
  {
   "cell_type": "markdown",
   "metadata": {
    "id": "Xwy7VRdJPtxN"
   },
   "source": [
    "<img src=\"https://www.w3resource.com/w3r_images/python-basic-image-exercise-69.png\" alt=\"Girl in a jacket\" width=\"500\" height=\"600\">\n"
   ]
  },
  {
   "cell_type": "code",
   "execution_count": 14,
   "metadata": {},
   "outputs": [
    {
     "name": "stdin",
     "output_type": "stream",
     "text": [
      "enter the first num 10\n",
      "enter the secand num  5\n",
      "enter the third num 17\n"
     ]
    },
    {
     "name": "stdout",
     "output_type": "stream",
     "text": [
      "the max number is17 and the minimum number is 5 and the mid is 12\n"
     ]
    }
   ],
   "source": [
    "x=int(input('enter the first num'))\n",
    "y=int(input('enter the secand num '))\n",
    "z=int(input('enter the third num'))\n",
    "num_max=max(x,y,z)\n",
    "num_min=min(x,y,z)\n",
    "mid=num_max-num_min\n",
    "print(f'the max number is {num_max} and the minimum number is {num_min} and the mid is {mid}')"
   ]
  },
  {
   "cell_type": "code",
   "execution_count": null,
   "metadata": {},
   "outputs": [],
   "source": []
  },
  {
   "cell_type": "markdown",
   "metadata": {
    "id": "nn6opiI8Uj1-"
   },
   "source": [
    "#### Write a Python function that takes a sequence of numbers and determines whether all the numbers are different from each other."
   ]
  },
  {
   "cell_type": "markdown",
   "metadata": {
    "id": "9LQTVtiGVJ9r"
   },
   "source": [
    "<img src=\"https://www.w3resource.com/w3r_images/python-basic-1-image-exercise-1.png\" alt=\"Girl in a jacket\" width=\"500\" height=\"600\">\n"
   ]
  },
  {
   "cell_type": "code",
   "execution_count": 57,
   "metadata": {},
   "outputs": [
    {
     "data": {
      "text/plain": [
       "True"
      ]
     },
     "execution_count": 57,
     "metadata": {},
     "output_type": "execute_result"
    }
   ],
   "source": [
    "s1=[2,4,5,7,9]\n",
    "def uniq_num(numbers):\n",
    "    return len(numbers)==len(set(numbers))\n",
    "uniq_num(s1)    "
   ]
  },
  {
   "cell_type": "code",
   "execution_count": 59,
   "metadata": {},
   "outputs": [],
   "source": [
    "s2=[2,4,5,5,7,9]"
   ]
  },
  {
   "cell_type": "code",
   "execution_count": 60,
   "metadata": {},
   "outputs": [
    {
     "data": {
      "text/plain": [
       "False"
      ]
     },
     "execution_count": 60,
     "metadata": {},
     "output_type": "execute_result"
    }
   ],
   "source": [
    "def uniq_num(numbers):\n",
    "    return len(numbers)==len(set(numbers))\n",
    "uniq_num(s2)    "
   ]
  },
  {
   "cell_type": "markdown",
   "metadata": {
    "id": "HHNeCzCWa3lx"
   },
   "source": [
    "#### Dictionary"
   ]
  },
  {
   "cell_type": "code",
   "execution_count": 48,
   "metadata": {
    "colab": {
     "base_uri": "https://localhost:8080/"
    },
    "id": "WOrfDlTla-Lf",
    "outputId": "76889e97-c736-490b-d105-61ee74cfb137"
   },
   "outputs": [
    {
     "data": {
      "text/plain": [
       "dict_keys(['a', 'b', 'c'])"
      ]
     },
     "execution_count": 48,
     "metadata": {},
     "output_type": "execute_result"
    }
   ],
   "source": [
    "#Return all keys \n",
    "dict1 = {'a': 100, 'b': 200, 'c': 300}\n",
    "dict1.keys()"
   ]
  },
  {
   "cell_type": "code",
   "execution_count": 50,
   "metadata": {
    "colab": {
     "base_uri": "https://localhost:8080/"
    },
    "id": "DAdr9gOQbDng",
    "outputId": "578f6680-f1e7-49cb-eaa0-bec2445dde2d"
   },
   "outputs": [
    {
     "data": {
      "text/plain": [
       "dict_values([200, 300])"
      ]
     },
     "execution_count": 50,
     "metadata": {},
     "output_type": "execute_result"
    }
   ],
   "source": [
    "#Return all Values\n",
    "dict1 = {'a': 100, 'a': 200, 'c': 300}\n",
    "dict1.values()"
   ]
  },
  {
   "cell_type": "code",
   "execution_count": 55,
   "metadata": {
    "colab": {
     "base_uri": "https://localhost:8080/"
    },
    "id": "XzjcaUpqbMGc",
    "outputId": "f18592a5-dee7-41ae-8f01-621dc6a44b0f"
   },
   "outputs": [],
   "source": [
    "#Return a list of tuple\n",
    "dict1 = {'a': 100, 'a': 200, 'c': 300}\n",
    "lst=list(dict1.items())\n"
   ]
  },
  {
   "cell_type": "code",
   "execution_count": 56,
   "metadata": {},
   "outputs": [
    {
     "data": {
      "text/plain": [
       "[('a', 200), ('c', 300)]"
      ]
     },
     "execution_count": 56,
     "metadata": {},
     "output_type": "execute_result"
    }
   ],
   "source": [
    "lst"
   ]
  },
  {
   "cell_type": "markdown",
   "metadata": {
    "id": "6c1ld1XoZ_RK"
   },
   "source": [
    "```\n",
    "Input : {‘a’: 100, ‘b’:200, ‘c’:300}\n",
    "```\n",
    "Output : 600\n",
    "```\n",
    "# Input : {‘x’: 25, ‘y’:18, ‘z’:45}\n",
    "\n",
    "```\n",
    "Output : 88"
   ]
  },
  {
   "cell_type": "code",
   "execution_count": 53,
   "metadata": {},
   "outputs": [
    {
     "name": "stdout",
     "output_type": "stream",
     "text": [
      "600\n"
     ]
    }
   ],
   "source": [
    "d1= {'a': 100, 'b':200, 'c':300}\n",
    "total=sum(d1.values())\n",
    "print(total)"
   ]
  },
  {
   "cell_type": "code",
   "execution_count": 54,
   "metadata": {},
   "outputs": [
    {
     "name": "stdout",
     "output_type": "stream",
     "text": [
      "88\n"
     ]
    }
   ],
   "source": [
    "d2= {'x': 25, 'y':18, 'z':45}\n",
    "total=sum(d2.values())\n",
    "print(total)"
   ]
  },
  {
   "cell_type": "markdown",
   "metadata": {
    "id": "3GT4F80UOaTa"
   },
   "source": [
    "### Calculate the sum of all numbers from 0 to a given number"
   ]
  },
  {
   "cell_type": "code",
   "execution_count": 46,
   "metadata": {},
   "outputs": [
    {
     "name": "stdin",
     "output_type": "stream",
     "text": [
      "enter a number:  5\n"
     ]
    },
    {
     "name": "stdout",
     "output_type": "stream",
     "text": [
      "The sum of all numbers from 0 to 5 is 15\n"
     ]
    }
   ],
   "source": [
    "x = int(input('enter a number: '))\n",
    "def sum_of_numbers(n):\n",
    "    return n * (n + 1) // 2              \n",
    "\n",
    "total_sum = sum_of_numbers(x)\n",
    "print(f\"The sum of all numbers from 0 to {x} is {total_sum}\")\n"
   ]
  },
  {
   "cell_type": "markdown",
   "metadata": {
    "id": "1tHglDPNUT5J"
   },
   "source": [
    "### Find the factorial of a given number using while loop"
   ]
  },
  {
   "cell_type": "markdown",
   "metadata": {
    "id": "QT1487BDVCIU"
   },
   "source": [
    "#### For example: calculate the factorial of 5\n",
    "\n"
   ]
  },
  {
   "cell_type": "markdown",
   "metadata": {
    "id": "FCTJ9pt_VE-y"
   },
   "source": [
    "\n",
    "\n",
    "```\n",
    "# 5! = 5 × 4 × 3 × 2 × 1 = 120\n",
    "\n",
    "```\n",
    "\n"
   ]
  },
  {
   "cell_type": "code",
   "execution_count": null,
   "metadata": {},
   "outputs": [],
   "source": [
    "n=int(input('enter a number'))\n",
    "s=1\n",
    "i = n\n",
    "while i>0 :\n",
    "    s*=i\n",
    "    i-=1\n",
    "print(f'the factorial of {n} is {s}')    \n",
    "    \n",
    "    "
   ]
  },
  {
   "cell_type": "markdown",
   "metadata": {
    "id": "q_f9IMbDYkLm"
   },
   "source": [
    "### Use a loop to display elements from a given list present at odd index positions"
   ]
  },
  {
   "cell_type": "markdown",
   "metadata": {
    "id": "Q9gHbx7XZBFc"
   },
   "source": [
    "```\n",
    "my_list = [10, 20, 30, 40, 50, 60, 70, 80, 90, 100]\n",
    "Expected output:\n",
    "20 40 60 80 100\n",
    "```\n",
    "\n"
   ]
  },
  {
   "cell_type": "code",
   "execution_count": 39,
   "metadata": {},
   "outputs": [
    {
     "name": "stdout",
     "output_type": "stream",
     "text": [
      "20\n",
      "40\n",
      "60\n",
      "80\n",
      "100\n"
     ]
    }
   ],
   "source": [
    "my_list = [10,20,30,40,50,60,70,80,90,100]\n",
    "for i in range(len( my_list)):\n",
    "    if i%2 !=0 :\n",
    "       print(my_list[i])"
   ]
  },
  {
   "cell_type": "code",
   "execution_count": null,
   "metadata": {},
   "outputs": [],
   "source": []
  },
  {
   "cell_type": "markdown",
   "metadata": {
    "id": "NRZ3LLaUmtQu"
   },
   "source": [
    "### len of str in list\n",
    "### ['apple', 'orange', 'cat']"
   ]
  },
  {
   "cell_type": "code",
   "execution_count": 32,
   "metadata": {
    "colab": {
     "base_uri": "https://localhost:8080/"
    },
    "id": "bIhFj4Q8ZlrW",
    "outputId": "c7a2f25b-b6c4-4289-a9c3-91b8504ed81a"
   },
   "outputs": [
    {
     "data": {
      "text/plain": [
       "3"
      ]
     },
     "execution_count": 32,
     "metadata": {},
     "output_type": "execute_result"
    }
   ],
   "source": [
    "l = ['apple', 'orange', 'cat']\n",
    "len(l)\n"
   ]
  },
  {
   "cell_type": "markdown",
   "metadata": {
    "id": "V05BjYlMeMjZ"
   },
   "source": [
    "### program to count number of vowels using sets in given string\n"
   ]
  },
  {
   "cell_type": "code",
   "execution_count": 14,
   "metadata": {},
   "outputs": [],
   "source": [
    "vowels = ['a','e','i','o','u']\n",
    "string = input('enter a word: ')\n"
   ]
  },
  {
   "cell_type": "markdown",
   "metadata": {
    "id": "rdIZGB8kgcMQ"
   },
   "source": [
    "\n",
    "### Write a Python program to add an item to a tuple."
   ]
  },
  {
   "cell_type": "code",
   "execution_count": 29,
   "metadata": {},
   "outputs": [],
   "source": [
    "tuple1 = (1,3,5)\n",
    "item = 10\n",
    "lst=list(tuple1)\n",
    "lst.append(10)\n",
    "\n"
   ]
  },
  {
   "cell_type": "code",
   "execution_count": 30,
   "metadata": {},
   "outputs": [],
   "source": [
    "tuple2=tuple(lst)"
   ]
  },
  {
   "cell_type": "code",
   "execution_count": 31,
   "metadata": {},
   "outputs": [
    {
     "name": "stdout",
     "output_type": "stream",
     "text": [
      "(1, 3, 5, 10)\n"
     ]
    }
   ],
   "source": [
    "print(tuple2)"
   ]
  },
  {
   "cell_type": "markdown",
   "metadata": {
    "id": "NpZ-cEhZkSlO"
   },
   "source": [
    "# Write a Python program to multiply all the items in a list."
   ]
  },
  {
   "cell_type": "code",
   "execution_count": 26,
   "metadata": {},
   "outputs": [
    {
     "name": "stdout",
     "output_type": "stream",
     "text": [
      "30\n"
     ]
    }
   ],
   "source": [
    "s=1\n",
    "lst = [1, 3, 5, 2]\n",
    "for i in lst:\n",
    "    s*=i\n",
    "print(s)"
   ]
  },
  {
   "cell_type": "markdown",
   "metadata": {
    "id": "2fwBrTI1k1XG"
   },
   "source": [
    "### Write a Python program to get the smallest number from a list."
   ]
  },
  {
   "cell_type": "code",
   "execution_count": 22,
   "metadata": {},
   "outputs": [
    {
     "name": "stdout",
     "output_type": "stream",
     "text": [
      "1\n"
     ]
    }
   ],
   "source": [
    "lst = [1, 3, 5,1,1000, 2]\n",
    "print(min(lst))"
   ]
  },
  {
   "cell_type": "markdown",
   "metadata": {
    "id": "-k8pdXDek5IW"
   },
   "source": [
    "### Write a Python program to get the largest number from a list."
   ]
  },
  {
   "cell_type": "code",
   "execution_count": 21,
   "metadata": {},
   "outputs": [
    {
     "name": "stdout",
     "output_type": "stream",
     "text": [
      "1000\n"
     ]
    }
   ],
   "source": [
    "lst = [1, 3, 5,1,1000, 2]\n",
    "print(max(lst))\n"
   ]
  },
  {
   "cell_type": "markdown",
   "metadata": {
    "id": "48pndthSlHSg"
   },
   "source": [
    "### Write a Python program to remove item(s) from a given set.\n",
    "\n",
    "### s = set([0, 1, 3, 4, 5])"
   ]
  },
  {
   "cell_type": "code",
   "execution_count": 17,
   "metadata": {},
   "outputs": [],
   "source": [
    "s = set([0, 1, 3, 4, 5])\n",
    "s.clear()"
   ]
  },
  {
   "cell_type": "markdown",
   "metadata": {
    "id": "J5nHkSQ4lmlq"
   },
   "source": [
    "### Write a Python program to find the maximum and minimum values in a set."
   ]
  },
  {
   "cell_type": "code",
   "execution_count": 16,
   "metadata": {},
   "outputs": [
    {
     "data": {
      "text/plain": [
       "1"
      ]
     },
     "execution_count": 16,
     "metadata": {},
     "output_type": "execute_result"
    }
   ],
   "source": [
    "set1 = {1,8,4,3,2,6}\n",
    "min(set1)\n",
    "max(set1"
   ]
  },
  {
   "cell_type": "markdown",
   "metadata": {
    "id": "ZDEKN9ulnLZO"
   },
   "source": [
    "### Write a Python program to convert a tuple to a dictionary.\n",
    "### dict1 = {}\n",
    "### tuple1 = (\"name\", \"age\", \"city\",\"city\")\n",
    "\n",
    "```\n",
    "# enumerate()\n",
    "```\n",
    "\n"
   ]
  },
  {
   "cell_type": "markdown",
   "metadata": {},
   "source": [
    "enumerate() returns a value and its index in the itterable (value,index)"
   ]
  },
  {
   "cell_type": "code",
   "execution_count": 20,
   "metadata": {},
   "outputs": [
    {
     "name": "stdout",
     "output_type": "stream",
     "text": [
      "{'name': 0, 'age': 1, 'city': 3}\n"
     ]
    }
   ],
   "source": [
    "tuple_1 = ('name','age','city','city')    #output {'name': 0, 'age': 1, 'city': 3}\n",
    "# values = (1,2,3,4)\n",
    "dict1 = {}\n",
    "dict1 = {value:index for index,value in enumerate(tuple_1)}\n",
    "print(dict1)"
   ]
  },
  {
   "cell_type": "code",
   "execution_count": null,
   "metadata": {},
   "outputs": [],
   "source": []
  }
 ],
 "metadata": {
  "colab": {
   "provenance": []
  },
  "kernelspec": {
   "display_name": "Python 3 (ipykernel)",
   "language": "python",
   "name": "python3"
  },
  "language_info": {
   "codemirror_mode": {
    "name": "ipython",
    "version": 3
   },
   "file_extension": ".py",
   "mimetype": "text/x-python",
   "name": "python",
   "nbconvert_exporter": "python",
   "pygments_lexer": "ipython3",
   "version": "3.11.7"
  }
 },
 "nbformat": 4,
 "nbformat_minor": 4
}
