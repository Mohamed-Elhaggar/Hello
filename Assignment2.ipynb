{
 "cells": [
  {
   "cell_type": "markdown",
   "id": "3c7a8819",
   "metadata": {},
   "source": [
    "# Task1\n",
    "Write a Python program to add an item to a tuple."
   ]
  },
  {
   "cell_type": "code",
   "execution_count": 4,
   "id": "aa88673b-28cf-4c92-8d4d-79ef7c92686b",
   "metadata": {},
   "outputs": [
    {
     "name": "stdout",
     "output_type": "stream",
     "text": [
      "[1, 2, 3]\n"
     ]
    }
   ],
   "source": [
    "t=(1,2,3)\n",
    "my_list=list(t)\n",
    "print(my_list)"
   ]
  },
  {
   "cell_type": "code",
   "execution_count": 5,
   "id": "30456669-d292-4b42-9fc8-c9aed98439f9",
   "metadata": {},
   "outputs": [],
   "source": [
    "my_list.append(4)"
   ]
  },
  {
   "cell_type": "code",
   "execution_count": 6,
   "id": "8e074067-1b45-49ae-80f8-2b698f5766d6",
   "metadata": {},
   "outputs": [
    {
     "name": "stdout",
     "output_type": "stream",
     "text": [
      "[1, 2, 3, 4]\n"
     ]
    }
   ],
   "source": [
    "print(my_list)"
   ]
  },
  {
   "cell_type": "code",
   "execution_count": 7,
   "id": "42e98a36-c824-4340-ad38-9771f8b15d37",
   "metadata": {},
   "outputs": [
    {
     "name": "stdout",
     "output_type": "stream",
     "text": [
      "(1, 2, 3, 4)\n"
     ]
    }
   ],
   "source": [
    "n_t=tuple(my_list)\n",
    "print(n_t)"
   ]
  },
  {
   "cell_type": "markdown",
   "id": "a2932652",
   "metadata": {},
   "source": [
    "# Task2\n",
    "Write a Python program to sum all the items in a list."
   ]
  },
  {
   "cell_type": "code",
   "execution_count": null,
   "id": "17cc806d",
   "metadata": {},
   "outputs": [],
   "source": [
    "sum(list)"
   ]
  },
  {
   "cell_type": "markdown",
   "id": "9439fccd",
   "metadata": {},
   "source": [
    "# Task3\n",
    "Write a Python program to multiply all the items in a list."
   ]
  },
  {
   "cell_type": "code",
   "execution_count": null,
   "id": "7bd57bb5",
   "metadata": {},
   "outputs": [],
   "source": [
    "s=1\n",
    "for i in lst:\n",
    "   s*=i\n",
    "print('hello world')"
   ]
  },
  {
   "cell_type": "markdown",
   "id": "1fef85c3",
   "metadata": {},
   "source": [
    "# Task4\n",
    "Write a Python program to get the smallest number from a list."
   ]
  },
  {
   "cell_type": "code",
   "execution_count": 10,
   "id": "c77b606c",
   "metadata": {},
   "outputs": [
    {
     "data": {
      "text/plain": [
       "2"
      ]
     },
     "execution_count": 10,
     "metadata": {},
     "output_type": "execute_result"
    }
   ],
   "source": [
    "lst=[2,9,8]\n",
    "min(lst)"
   ]
  },
  {
   "cell_type": "markdown",
   "id": "0d287243",
   "metadata": {},
   "source": [
    "# Task5\n",
    "Write a Python program to get the largest number from a list."
   ]
  },
  {
   "cell_type": "code",
   "execution_count": 11,
   "id": "29bf3a84",
   "metadata": {},
   "outputs": [
    {
     "data": {
      "text/plain": [
       "9"
      ]
     },
     "execution_count": 11,
     "metadata": {},
     "output_type": "execute_result"
    }
   ],
   "source": [
    "max(lst)"
   ]
  },
  {
   "cell_type": "markdown",
   "id": "b2350932",
   "metadata": {},
   "source": [
    "# Task6 \n",
    "Write a Python program to count the number of strings from a given list of \n",
    "strings."
   ]
  },
  {
   "cell_type": "code",
   "execution_count": 16,
   "id": "e73356bd",
   "metadata": {},
   "outputs": [
    {
     "name": "stdout",
     "output_type": "stream",
     "text": [
      "the number of string is 2\n"
     ]
    }
   ],
   "source": [
    "lst=['amit learning','machine learning']\n",
    "count=0\n",
    "for i in lst:\n",
    "    if isinstance (i,str):\n",
    "        count+=1\n",
    "print(f'the number of string is {count}')        \n",
    "    "
   ]
  },
  {
   "cell_type": "markdown",
   "id": "1eacc78b",
   "metadata": {},
   "source": [
    "# Task7\n",
    "Write a Python program to clone or copy a list"
   ]
  },
  {
   "cell_type": "code",
   "execution_count": 18,
   "id": "63bbc455",
   "metadata": {},
   "outputs": [
    {
     "data": {
      "text/plain": [
       "[1, 2, 30]"
      ]
     },
     "execution_count": 18,
     "metadata": {},
     "output_type": "execute_result"
    }
   ],
   "source": [
    "lst=[1,2,30]\n",
    "lst2=lst.copy()\n",
    "lst2"
   ]
  },
  {
   "cell_type": "markdown",
   "id": "449d71c4",
   "metadata": {},
   "source": [
    "# Task8\n",
    "Write a Python program to remove item(s) from a given set.\n",
    "\n",
    "s = set([0, 1, 3, 4, 5])"
   ]
  },
  {
   "cell_type": "code",
   "execution_count": 21,
   "id": "2593788e",
   "metadata": {},
   "outputs": [
    {
     "name": "stdout",
     "output_type": "stream",
     "text": [
      "set()\n"
     ]
    }
   ],
   "source": [
    "s = set([0, 1, 3, 4, 5])\n",
    "s.clear()\n",
    "print(s)"
   ]
  },
  {
   "cell_type": "code",
   "execution_count": null,
   "id": "b58e0398-62fc-49b9-8a21-eafb4be4d274",
   "metadata": {},
   "outputs": [],
   "source": [
    "items=[0,1,3,4,5]\n",
    "for i in items:\n",
    "    s.discard(i)\n",
    "print (s)    "
   ]
  },
  {
   "cell_type": "markdown",
   "id": "f90c349e",
   "metadata": {},
   "source": [
    "# Task9\n",
    "Write a Python program to find the maximum and minimum values in a set."
   ]
  },
  {
   "cell_type": "code",
   "execution_count": null,
   "id": "6f6e62b0",
   "metadata": {},
   "outputs": [],
   "source": [
    "s=[1,2,3,40,50,10]\n",
    "max(s)\n",
    "min(s)\n",
    "s.sort()"
   ]
  },
  {
   "cell_type": "markdown",
   "id": "a151e82a",
   "metadata": {},
   "source": [
    "# Task10\n",
    "Write a Python program to convert a tuple to a dictionary."
   ]
  },
  {
   "cell_type": "code",
   "execution_count": 32,
   "id": "1c606999",
   "metadata": {},
   "outputs": [
    {
     "name": "stdout",
     "output_type": "stream",
     "text": [
      "{1: 0, 2: 0, 3: 0}\n"
     ]
    }
   ],
   "source": [
    "t=(1,2,3)\n",
    "d={key:0 for key in t }\n",
    "print(d)"
   ]
  },
  {
   "cell_type": "markdown",
   "id": "c8132b1b",
   "metadata": {},
   "source": [
    "# Task11\n",
    "Write a Python program to reverse a tuple."
   ]
  },
  {
   "cell_type": "code",
   "execution_count": 23,
   "id": "49a882d8",
   "metadata": {},
   "outputs": [
    {
     "name": "stdout",
     "output_type": "stream",
     "text": [
      "(60, 5, 4, 3, 2, 1)\n"
     ]
    }
   ],
   "source": [
    "t= (1,2,3,4,5,60)\n",
    "reverse_t=t[ : :-1]\n",
    "print(reverse_t)"
   ]
  },
  {
   "cell_type": "markdown",
   "id": "6c062c85",
   "metadata": {},
   "source": [
    "# Task12\n",
    "Write a Python program to convert a list of tuples into a dictionary"
   ]
  },
  {
   "cell_type": "code",
   "execution_count": 24,
   "id": "c3b21d48",
   "metadata": {},
   "outputs": [
    {
     "name": "stdout",
     "output_type": "stream",
     "text": [
      "{1: 2, 3: 4, 'amit': 'learning', 'machine': 'learning'}\n"
     ]
    }
   ],
   "source": [
    "t=([1,2],[3,4],['amit','learning'],['machine','learning'])\n",
    "d=dict(t)\n",
    "print(d)"
   ]
  },
  {
   "cell_type": "markdown",
   "id": "2133456d",
   "metadata": {},
   "source": [
    "# Task13\n",
    "Write a Python program to replace the last value of tuples in a list.\n",
    "\n",
    "Sample list: [(10, 20, 40), (40, 50, 60), (70, 80, 90)]\n",
    "\n",
    "Expected Output: [(10, 20, 100), (40, 50, 100), (70, 80, 100)]\n"
   ]
  },
  {
   "cell_type": "code",
   "execution_count": 28,
   "id": "de535d71",
   "metadata": {},
   "outputs": [
    {
     "name": "stdout",
     "output_type": "stream",
     "text": [
      "[(10, 20, 100), (40, 50, 100), (70, 80, 100)]\n"
     ]
    }
   ],
   "source": [
    "g= [(10, 20, 40), (40, 50, 60), (70, 80, 90)]\n",
    "new_value=100\n",
    "lst2=[]\n",
    "for i in g:\n",
    "    t_lst=list(i)\n",
    "    t_lst[-1]=new_value\n",
    "    n_tuple=tuple(t_lst)\n",
    "    lst2.append(n_tuple)\n",
    "print(lst2)    "
   ]
  },
  {
   "cell_type": "markdown",
   "id": "076336bc",
   "metadata": {},
   "source": [
    "# Task14\n",
    "Remove the illegal characters in the variable name:\n",
    "\n",
    "var_name = \"%%6student_name$^$%#\"\n",
    "\n",
    "illegal_chars = \"0123456789!@#$%^&*()-+=[]{}|\\\\;:'\\\",.<>/?~\"\n",
    "\n",
    "output is \"student_name\""
   ]
  },
  {
   "cell_type": "code",
   "execution_count": null,
   "id": "c377b33b",
   "metadata": {},
   "outputs": [],
   "source": [
    "cleaned_var_name = ''.join(char for char in var_name if char not in illegal_chars)"
   ]
  },
  {
   "attachments": {},
   "cell_type": "markdown",
   "id": "0f22e0c3-c5e0-4a63-902f-c966bfa18090",
   "metadata": {},
   "source": [
    "# Task15\n",
    "Write a Python program to print the even and odd numbers in a series of numbers\n",
    "\n",
    "Sample numbers : numbers = (1, 2, 3, 4, 5, 6, 7, 8, 9) \n",
    "    \n",
    "Expected Output :\n",
    "    \n",
    "Number of even numbers : 2,4,6,8\n",
    "    \n",
    "Number of odd numbers : 1,3,5,7,9\n",
    "\n"
   ]
  },
  {
   "cell_type": "code",
   "execution_count": 30,
   "id": "5ef162ae-10b0-44e1-ac39-1524e5807931",
   "metadata": {},
   "outputs": [
    {
     "name": "stdout",
     "output_type": "stream",
     "text": [
      "[2, 4, 6, 8]\n",
      "[1, 3, 5, 7, 9]\n"
     ]
    }
   ],
   "source": [
    "numbers = (1, 2, 3, 4, 5, 6, 7, 8, 9)\n",
    "\n",
    "even_numbers=[]\n",
    "odd_numbers=[]\n",
    "for num in numbers:\n",
    "    if num %2 ==0:\n",
    "        even_numbers.append(num)\n",
    "    else:\n",
    "        odd_numbers.append(num)\n",
    "print(even_numbers)\n",
    "print(odd_numbers)"
   ]
  },
  {
   "cell_type": "markdown",
   "id": "0f8fce9c",
   "metadata": {},
   "source": [
    "# Task16\n",
    "Write a Python program that iterates the integers from 1 to 50. For multiples of three print \"Fizz\" instead of the number and for multiples of five print \"Buzz\". For numbers that are multiples of three and five, print \"FizzBuzz\"."
   ]
  },
  {
   "cell_type": "code",
   "execution_count": 31,
   "id": "5985952d",
   "metadata": {},
   "outputs": [
    {
     "name": "stdout",
     "output_type": "stream",
     "text": [
      "---erroe---\n",
      "---erroe---\n",
      "Fizz\n",
      "---erroe---\n",
      "Buzz\n",
      "Fizz\n",
      "---erroe---\n",
      "---erroe---\n",
      "Fizz\n",
      "Buzz\n",
      "---erroe---\n",
      "Fizz\n",
      "---erroe---\n",
      "---erroe---\n",
      "fizzBuzz\n",
      "---erroe---\n",
      "---erroe---\n",
      "Fizz\n",
      "---erroe---\n",
      "Buzz\n",
      "Fizz\n",
      "---erroe---\n",
      "---erroe---\n",
      "Fizz\n",
      "Buzz\n",
      "---erroe---\n",
      "Fizz\n",
      "---erroe---\n",
      "---erroe---\n",
      "fizzBuzz\n",
      "---erroe---\n",
      "---erroe---\n",
      "Fizz\n",
      "---erroe---\n",
      "Buzz\n",
      "Fizz\n",
      "---erroe---\n",
      "---erroe---\n",
      "Fizz\n",
      "Buzz\n",
      "---erroe---\n",
      "Fizz\n",
      "---erroe---\n",
      "---erroe---\n",
      "fizzBuzz\n",
      "---erroe---\n",
      "---erroe---\n",
      "Fizz\n",
      "---erroe---\n",
      "Buzz\n"
     ]
    }
   ],
   "source": [
    "for i in range(1,51):\n",
    "    if i %3==0 and i%5==0:\n",
    "        print('fizzBuzz')\n",
    "    elif i %3 ==0 :\n",
    "        print('Fizz')\n",
    "    elif i%5   ==0:\n",
    "        print('Buzz')\n",
    "    else:\n",
    "        print('---erroe---')\n",
    "    "
   ]
  },
  {
   "cell_type": "markdown",
   "id": "504dee61",
   "metadata": {},
   "source": [
    "# Task17\n",
    "After you have finished the second session, can you explain briefly what information was learned and also what information you learned through the search?"
   ]
  },
  {
   "cell_type": "code",
   "execution_count": null,
   "id": "4711a851",
   "metadata": {},
   "outputs": [],
   "source": [
    "  # i learned through the search :\n",
    "  # ''. join \n",
    "  #   .isinstance()"
   ]
  },
  {
   "cell_type": "code",
   "execution_count": null,
   "id": "a1171e2d-2e4b-468a-9a68-9d7f71f8a41a",
   "metadata": {},
   "outputs": [],
   "source": []
  }
 ],
 "metadata": {
  "kernelspec": {
   "display_name": "Python 3 (ipykernel)",
   "language": "python",
   "name": "python3"
  },
  "language_info": {
   "codemirror_mode": {
    "name": "ipython",
    "version": 3
   },
   "file_extension": ".py",
   "mimetype": "text/x-python",
   "name": "python",
   "nbconvert_exporter": "python",
   "pygments_lexer": "ipython3",
   "version": "3.11.7"
  }
 },
 "nbformat": 4,
 "nbformat_minor": 5
}
