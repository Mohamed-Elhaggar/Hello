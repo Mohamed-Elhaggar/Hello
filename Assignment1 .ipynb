{
 "cells": [
  {
   "cell_type": "markdown",
   "id": "b62de2bb",
   "metadata": {},
   "source": [
    "# Task1 \n",
    "Create a variable named x, and assign it a value of 20."
   ]
  },
  {
   "cell_type": "code",
   "execution_count": 1,
   "id": "919cbd1b",
   "metadata": {},
   "outputs": [],
   "source": [
    "x=20"
   ]
  },
  {
   "cell_type": "markdown",
   "id": "b29f5dda",
   "metadata": {},
   "source": [
    "# Task2\n",
    "Create two variables named x and y, and assign them with values 10 and 20 respectively."
   ]
  },
  {
   "cell_type": "code",
   "execution_count": 3,
   "id": "43ada676",
   "metadata": {},
   "outputs": [],
   "source": [
    " (x,y)=(10,20)"
   ]
  },
  {
   "cell_type": "markdown",
   "id": "62c0df0d",
   "metadata": {},
   "source": [
    "# Task3 \n",
    "Create a variable named x which is assigned a value of 'apple'. Print the variable x to standard output."
   ]
  },
  {
   "cell_type": "code",
   "execution_count": 2,
   "id": "07d23a3b",
   "metadata": {},
   "outputs": [
    {
     "name": "stdout",
     "output_type": "stream",
     "text": [
      "apple\n"
     ]
    }
   ],
   "source": [
    "x='apple'\n",
    "print(x)"
   ]
  },
  {
   "cell_type": "markdown",
   "id": "ab1228d6",
   "metadata": {},
   "source": [
    "# Task4\n",
    "Assign variable x with 10, and variable y with 20. Find their sum and assign the result to a variable z. Then print the variable z."
   ]
  },
  {
   "cell_type": "code",
   "execution_count": 4,
   "id": "f3733960",
   "metadata": {},
   "outputs": [
    {
     "name": "stdout",
     "output_type": "stream",
     "text": [
      "30\n"
     ]
    }
   ],
   "source": [
    "x=10\n",
    "y=20\n",
    "z=x+y\n",
    "print(z)"
   ]
  },
  {
   "cell_type": "markdown",
   "id": "4f3972af",
   "metadata": {},
   "source": [
    "# Task5\n",
    "Initialize all the three variables x, y, and z with the same value of 'apple' in a single statement."
   ]
  },
  {
   "cell_type": "code",
   "execution_count": null,
   "id": "ee040b87",
   "metadata": {},
   "outputs": [],
   "source": [
    "x=y=z="
   ]
  },
  {
   "cell_type": "markdown",
   "id": "c37809e9",
   "metadata": {},
   "source": [
    "# Task6\n",
    "What is the built-in function that returns the type of the given value or variable (x or y or z)."
   ]
  },
  {
   "cell_type": "code",
   "execution_count": 1,
   "id": "2f4b820a",
   "metadata": {},
   "outputs": [
    {
     "ename": "TypeError",
     "evalue": "type() takes 1 or 3 arguments",
     "output_type": "error",
     "traceback": [
      "\u001b[1;31m---------------------------------------------------------------------------\u001b[0m",
      "\u001b[1;31mTypeError\u001b[0m                                 Traceback (most recent call last)",
      "Cell \u001b[1;32mIn[1], line 1\u001b[0m\n\u001b[1;32m----> 1\u001b[0m \u001b[38;5;28mtype\u001b[39m()\n",
      "\u001b[1;31mTypeError\u001b[0m: type() takes 1 or 3 arguments"
     ]
    }
   ],
   "source": [
    "type()"
   ]
  },
  {
   "cell_type": "markdown",
   "id": "b5a37587",
   "metadata": {},
   "source": [
    "# Task7\n",
    "Which built-in function is used to read input from user?"
   ]
  },
  {
   "cell_type": "code",
   "execution_count": null,
   "id": "98badfbb",
   "metadata": {},
   "outputs": [],
   "source": [
    "input()"
   ]
  },
  {
   "cell_type": "markdown",
   "id": "bf399396",
   "metadata": {},
   "source": [
    "# Task8\n",
    "Reverse a given string \n",
    "str1 = \"Amit Learning\""
   ]
  },
  {
   "cell_type": "code",
   "execution_count": 2,
   "id": "887d91bf",
   "metadata": {},
   "outputs": [],
   "source": [
    "str1='amit learning'\n",
    "reverse_str=str1[ : :-1]"
   ]
  },
  {
   "cell_type": "code",
   "execution_count": 3,
   "id": "e3008b5d",
   "metadata": {},
   "outputs": [
    {
     "name": "stdout",
     "output_type": "stream",
     "text": [
      "gninrael tima\n"
     ]
    }
   ],
   "source": [
    "print(reverse_str)"
   ]
  },
  {
   "cell_type": "markdown",
   "id": "5e42437a",
   "metadata": {},
   "source": [
    "# Task9\n",
    "split a given string\n",
    "str2 = \"Dema-is-a-data-scientist\"\n",
    "\n",
    "output >> ['Dema', 'is', 'a', 'data', 'scientist']"
   ]
  },
  {
   "cell_type": "code",
   "execution_count": 6,
   "id": "08f0b533",
   "metadata": {},
   "outputs": [
    {
     "name": "stdout",
     "output_type": "stream",
     "text": [
      "['Dema', 'is', 'a', 'data', 'scientist']\n"
     ]
    }
   ],
   "source": [
    "str2 = \"Dema-is-a-data-scientist\"\n",
    "output=str2.split('-')\n",
    "print(output)"
   ]
  },
  {
   "cell_type": "markdown",
   "id": "82363726",
   "metadata": {},
   "source": [
    "# Task10\n",
    "Join this list['Dema', 'is', 'a', 'data', 'scientist'] \n",
    "\n",
    "output >> 'Dema is a data scientist'"
   ]
  },
  {
   "cell_type": "code",
   "execution_count": 7,
   "id": "e4026949",
   "metadata": {},
   "outputs": [
    {
     "name": "stdout",
     "output_type": "stream",
     "text": [
      "Dema is a data scientist\n"
     ]
    }
   ],
   "source": [
    "x_list=['Dema', 'is', 'a', 'data', 'scientist']\n",
    "\n",
    "output=' '.join(x_list)\n",
    "print(output)"
   ]
  },
  {
   "cell_type": "markdown",
   "id": "ac5c1dd8",
   "metadata": {},
   "source": [
    "# Task11\n",
    "Get the characters:\n",
    "\n",
    "From: \"o\" in \"World!\" \n",
    "\n",
    "To, but not included: \"d\" in \"World!\"\n",
    "\n",
    "str1 = \"Hello, World!\""
   ]
  },
  {
   "cell_type": "code",
   "execution_count": 9,
   "id": "acab7e4d",
   "metadata": {},
   "outputs": [
    {
     "name": "stdout",
     "output_type": "stream",
     "text": [
      "o, Worl\n"
     ]
    }
   ],
   "source": [
    "str1 = \"Hello, World!\"\n",
    "start_index=str1.index('o')\n",
    "end_index  =str1.index('d')\n",
    "x=str1[start_index:end_index]\n",
    "print(x)"
   ]
  },
  {
   "cell_type": "markdown",
   "id": "b5763b76",
   "metadata": {},
   "source": [
    "# Task12\n",
    "Check if \"free\" is present in the following text:\n",
    "\n",
    "txt = \"The best things in life are free!\""
   ]
  },
  {
   "cell_type": "code",
   "execution_count": 12,
   "id": "d0ba085c",
   "metadata": {},
   "outputs": [
    {
     "name": "stdout",
     "output_type": "stream",
     "text": [
      "free is present in the text\n"
     ]
    }
   ],
   "source": [
    "txt = \"The best things in life are free!\"\n",
    "if 'free' in txt:\n",
    "    print('free is present in the text')\n",
    "else:\n",
    "    print('free is not present in the text')"
   ]
  },
  {
   "cell_type": "markdown",
   "id": "d0b26e9b",
   "metadata": {},
   "source": [
    "# Task13\n",
    "removes any whitespace from the beginning or the end\n",
    "\n",
    "s = \" Hello, World! \""
   ]
  },
  {
   "cell_type": "code",
   "execution_count": 14,
   "id": "88e85a9a",
   "metadata": {},
   "outputs": [
    {
     "data": {
      "text/plain": [
       "'Hello, World!'"
      ]
     },
     "execution_count": 14,
     "metadata": {},
     "output_type": "execute_result"
    }
   ],
   "source": [
    "s = \" Hello, World! \"\n",
    "s.strip()"
   ]
  },
  {
   "cell_type": "code",
   "execution_count": 16,
   "id": "34a56e91-3bca-4bf9-a22d-72e1c63028de",
   "metadata": {},
   "outputs": [
    {
     "name": "stdout",
     "output_type": "stream",
     "text": [
      "Hello, World!\n"
     ]
    }
   ],
   "source": [
    "s = \" Hello, World! \"\n",
    "n_s=s.strip()\n",
    "print(n_s)"
   ]
  },
  {
   "cell_type": "markdown",
   "id": "832668db",
   "metadata": {},
   "source": [
    "# Task14\n",
    "Replace the character H with J.\n",
    "\n",
    "\n",
    "txt = \"Hello World\""
   ]
  },
  {
   "cell_type": "code",
   "execution_count": 22,
   "id": "50252148",
   "metadata": {},
   "outputs": [
    {
     "name": "stdout",
     "output_type": "stream",
     "text": [
      "jello World\n"
     ]
    }
   ],
   "source": [
    "txt = \"Hello World\"\n",
    "n_txt=txt.replace('H','j')\n",
    "print(n_txt)"
   ]
  },
  {
   "cell_type": "code",
   "execution_count": null,
   "id": "6575472b",
   "metadata": {},
   "outputs": [],
   "source": []
  }
 ],
 "metadata": {
  "kernelspec": {
   "display_name": "Python 3 (ipykernel)",
   "language": "python",
   "name": "python3"
  },
  "language_info": {
   "codemirror_mode": {
    "name": "ipython",
    "version": 3
   },
   "file_extension": ".py",
   "mimetype": "text/x-python",
   "name": "python",
   "nbconvert_exporter": "python",
   "pygments_lexer": "ipython3",
   "version": "3.11.7"
  }
 },
 "nbformat": 4,
 "nbformat_minor": 5
}
